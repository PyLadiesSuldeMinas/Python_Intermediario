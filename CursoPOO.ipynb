{
 "cells": [
  {
   "cell_type": "markdown",
   "id": "c4409f5e",
   "metadata": {},
   "source": [
    "# Minicurso de Orientação à Objetos com Python\n",
    "\n",
    "Na programação orientada à objetos, podemos construir variáveis especiais, mas próximas daqueles elementos do mundo real que estamos tentando modelar. Estas variáveis são chamadas de objetos e são criadas e manipuladas de uma forma especial do que as variáveis já disponíveis pelo sistema (como strings, inteiros, char, float...)\n",
    "\n",
    "Por exemplo, simulando um cenário onde temos um sistema que irá controlar o empréstimo de livros em uma biblioteca. A orientação à objetos pode trazer simplicidade e generalização às funções e melhorar a organização do código"
   ]
  },
  {
   "cell_type": "markdown",
   "id": "01e5e126",
   "metadata": {},
   "source": [
    "### Como definir um objeto?\n",
    "\n",
    "Os objetos são definidos de acordo com as suas características, que chamamos de atributos. Objetos com os mesmos atributos são dividos em classes. Por exemplo: um livro é um objeto do mundo real que precisamos modelar em nosso problema. Então criaremos a classe livro, que modela nosso elemento do mundo real. Todo livro tem título, autor, ano e editora. Estes serão os atributos da classe livro."
   ]
  },
  {
   "cell_type": "code",
   "execution_count": 18,
   "id": "c9da41cf",
   "metadata": {},
   "outputs": [],
   "source": [
    "class Livro:\n",
    "    def __init__(self):\n",
    "        self.titulo = \" \"\n",
    "        self.autor = \" \"\n",
    "        self.ano = 0\n",
    "        self.editora = \" \" "
   ]
  },
  {
   "cell_type": "markdown",
   "id": "148485e7",
   "metadata": {},
   "source": [
    "Relembrando, que python é uma linguagem dinâmica e fortemente tipada. Ou seja, uma variável pode receber diversos tipos, mas só pode ser manipulada por operações compatíveis com o seu tipo atual. Assim, é possível que o atributo ano receba uma palavra, mas quando isso acontece já não é mais possível realizar operações de incremento, por exemplo."
   ]
  },
  {
   "cell_type": "markdown",
   "id": "95e63843",
   "metadata": {},
   "source": [
    "### Como declarar o objeto?\n",
    "\n",
    "Basta atribuir a classe à variavel criada. Automaticamente o python reconhece que __ init __ se refere à função que inicia a classe, ou como chamamos em orientação à objetos: é o método construtor da classe"
   ]
  },
  {
   "cell_type": "code",
   "execution_count": 36,
   "id": "e71364ef",
   "metadata": {},
   "outputs": [
    {
     "name": "stdout",
     "output_type": "stream",
     "text": [
      "<__main__.Livro object at 0x000001A16D5EA610>\n"
     ]
    }
   ],
   "source": [
    "PeqPrincipe = Livro()\n",
    "\n",
    "print(PeqPrincipe)"
   ]
  },
  {
   "cell_type": "markdown",
   "id": "e4d3b76d",
   "metadata": {},
   "source": [
    "### Exibindo um objeto criado\n",
    "\n",
    "Como vocês viram, utilizar apenas o comando print não é suficiente para exibir os atributos de um objeto. Esta é também uma das vantagens da orientação à objetos, ela oferece uma proteção maior para os dados, tanto se tratando de leitura quanto escrita. Para exibir todas as caracteristicas, é necessário chamar os atributos. Mas depois veremos que esta não é a forma correta de fazer isso."
   ]
  },
  {
   "cell_type": "code",
   "execution_count": 20,
   "id": "87a0f06f",
   "metadata": {},
   "outputs": [
    {
     "name": "stdout",
     "output_type": "stream",
     "text": [
      "0\n"
     ]
    }
   ],
   "source": [
    "print(PeqPrincipe.ano)"
   ]
  },
  {
   "cell_type": "markdown",
   "id": "490d55b6",
   "metadata": {},
   "source": [
    "Também é possível iniciar um objeto já com os atributos corretos, sem precisar editar depois os dados. Para isso, vamos criar primeiro um método construtor onde possamos passar parâmtros que serão relacionados à estes atributos. Porém, uma coisa importante a se perceber é que uma classe python suporta apenas um único método construtor, então você precisará analisar exatamente qual estilo de inicialização será mais conveniente para seu problema."
   ]
  },
  {
   "cell_type": "code",
   "execution_count": 21,
   "id": "be521659",
   "metadata": {},
   "outputs": [],
   "source": [
    "class Livro:\n",
    "    #def __init__(self):\n",
    "    #    self.titulo = \" \"\n",
    "    #    self.autor = \" \"\n",
    "    #    self.ano = 0\n",
    "    #    self.editora = \" \" \n",
    "        \n",
    "    def __init__(self, titulo_livro, autor_livro, ano_livro, editora_livro):\n",
    "        self.titulo = titulo_livro\n",
    "        self.autor = autor_livro\n",
    "        self.ano = ano_livro\n",
    "        self.editora = editora_livro"
   ]
  },
  {
   "cell_type": "code",
   "execution_count": 22,
   "id": "b6b7b51b",
   "metadata": {},
   "outputs": [
    {
     "name": "stdout",
     "output_type": "stream",
     "text": [
      "Carl Sagan\n"
     ]
    }
   ],
   "source": [
    "#instanciando um novo objeto\n",
    "Contato = Livro(\"Contato\", \"Carl Sagan\", 2008, \"Companhia das letras\")\n",
    "\n",
    "print(Contato.autor)"
   ]
  },
  {
   "cell_type": "markdown",
   "id": "6cff3314",
   "metadata": {},
   "source": [
    "## Encapsulamento de dados"
   ]
  },
  {
   "cell_type": "markdown",
   "id": "8d01dade",
   "metadata": {},
   "source": [
    "Conforme comentamos anteriormente, não é correto acessar diretamente os atributos dos objetos, pois isso diminui a segurança que a orientação à objetos propõe. O correto é declarar métodos (funções), para acessar (get) e modificar (set) estes dados. Desta forma, é possível que você defina no programa quais atributos podem ser acessados, quais serão modificados e como isso será realizado. Faremos então a adição destes métodos na nossa classe Livro"
   ]
  },
  {
   "cell_type": "code",
   "execution_count": 34,
   "id": "6c9687e9",
   "metadata": {},
   "outputs": [],
   "source": [
    "class Livro:\n",
    "    #métodos construtores\n",
    "    def __init__(self):\n",
    "        self.titulo = \" \"\n",
    "        self.autor = \" \"\n",
    "        self.ano = 0\n",
    "        self.editora = \" \" \n",
    "        \n",
    "    #def __init__(self, titulo_livro, autor_livro, ano_livro, editora_livro):\n",
    "    #    self.titulo = titulo_livro\n",
    "    #    self.autor = autor_livro\n",
    "    #    self.ano = ano_livro\n",
    "    #    self.editora = editora_livro\n",
    "    \n",
    "    #métodos acessores\n",
    "    def getTitulo(self):\n",
    "        return self.titulo\n",
    "    \n",
    "    def getAutor(self):\n",
    "        return self.autor\n",
    "    \n",
    "    def getAno(self):\n",
    "        return self.ano\n",
    "    \n",
    "    def getEditora(self):\n",
    "        return self.editora\n",
    "    \n",
    "    def setTitulo(self, new_titulo):\n",
    "        self.titulo = new_titulo\n",
    "    \n",
    "    def setAutor(self, new_autor):\n",
    "        self.autor = new_autor\n",
    "    \n",
    "    def setAno(self, new_ano):\n",
    "        self.ano = new_ano\n",
    "        \n",
    "    def setEditora(self, new_editora):\n",
    "        self.editora = new_editora\n",
    "    "
   ]
  },
  {
   "cell_type": "markdown",
   "id": "3a8d6413",
   "metadata": {},
   "source": [
    "Como exemplo, estaremos realizando a modificação dos dados do nosso primeiro objeto livro declarado, adicionando as informações em seus atributos e exibindo em uma ficha. Relembrando, os métodos set serão usados para edição e os métodos get para acesso."
   ]
  },
  {
   "cell_type": "code",
   "execution_count": 40,
   "id": "7caca480",
   "metadata": {},
   "outputs": [
    {
     "name": "stdout",
     "output_type": "stream",
     "text": [
      "Autor:  O Pequeno Príncipe \n",
      "Autor:  Antoine de Saint-Exupéry \n",
      "Ano:  2018 \n",
      "Editora:  HarperCollins\n"
     ]
    }
   ],
   "source": [
    "PeqPrincipe.setTitulo(\"O Pequeno Príncipe\")\n",
    "PeqPrincipe.setAutor(\"Antoine de Saint-Exupéry\")\n",
    "PeqPrincipe.setAno(2018)\n",
    "PeqPrincipe.setEditora(\"HarperCollins\")\n",
    "\n",
    "print(\"Autor: \", PeqPrincipe.getTitulo(), \"\\nAutor: \", PeqPrincipe.getAutor(), \"\\nAno: \", PeqPrincipe.getAno(),\n",
    "      \"\\nEditora: \", PeqPrincipe.getEditora())"
   ]
  },
  {
   "cell_type": "markdown",
   "id": "2a4e43d1",
   "metadata": {},
   "source": [
    "Na orienteção à objetos, é comum definir a permissão de acesso dentro e fora das classes, definindo quais partes do programa pode acessar uma função ou atributo. Esta definição acontece separando-se entre os atributos *private* e *public*. Em python, existem algumas particularidades, então veremos estes conceitos um pouco mais adiante."
   ]
  },
  {
   "cell_type": "markdown",
   "id": "800d5903",
   "metadata": {},
   "source": [
    "## Exercício:\n",
    "\n",
    "Crie a classe Usuário, baseada no que você aprendeu com a classe Livro. Esta classe deve conter pelo menos nome do usuário, um documento e um contato, além dos métodos get, set e um construtor."
   ]
  },
  {
   "cell_type": "code",
   "execution_count": null,
   "id": "e618f3ce",
   "metadata": {},
   "outputs": [],
   "source": []
  },
  {
   "cell_type": "markdown",
   "id": "0fa67199",
   "metadata": {},
   "source": [
    "### Métodos gerais para manipulação de dados"
   ]
  },
  {
   "cell_type": "markdown",
   "id": "c31e3ae7",
   "metadata": {},
   "source": [
    "Até o momento nós implementamos dois objetos fundamentais de nosso sistema para bibliotecas. Agora, implementaremos també uma relação que existe entre estes dois elementos: o empréstimo. É possível definir métodos e atributos dentro dos objetos anteriores que simule esta relação, principalmente nos casos onde apenas um objeto se relaciona com outr único objeto. Outra forma é implementar a relação que existe entre eles como um objeto que contém os outros objetos relacionados. Para deixar menos confuso: implementaremos um objeto chamado Emprestimo, que contém os objetos de Usuário e Livro. Assim, podemos ter um livro emprestado para mais de uma pessoa e uma pessoa pegando mais de um livro. Estas escolhas são importantes quando trabalhamos com banco de dados, pois definem quantas tabelas serão armazenadas e a complexidade das buscas."
   ]
  },
  {
   "cell_type": "code",
   "execution_count": 41,
   "id": "c5905e26",
   "metadata": {},
   "outputs": [],
   "source": [
    "class Emprestimo:\n",
    "    def __init__(self, new_Usuario, new_Livro, new_inicio, new_devolucao, new_finalizado):\n",
    "        self.Usuario = new_Usuario\n",
    "        self.Livro = new_Livro\n",
    "        self.inicio = new_inicio\n",
    "        self.devolucao = new_devolucao\n",
    "        self.finalizado = new.finalizado\n",
    "        \n",
    "    def getUsuario(self):\n",
    "        return self.Usuario\n",
    "    \n",
    "    def getLivro(self):\n",
    "        return self.Livro\n",
    "    \n",
    "    def getInicio(self):\n",
    "        return self.inicio\n",
    "    \n",
    "    def getDevolucao(self):\n",
    "        return self.devolucao\n",
    "    \n",
    "    def getFinalizado(self):\n",
    "        return self.finalizado\n",
    "    \n",
    "    def setUsuario(self, new_Usuario):\n",
    "        self.Usuario = new_Usuario\n",
    "    \n",
    "    def setLivro(self, new_Livro):\n",
    "        self.Livro = new_Livro\n",
    "        \n",
    "    def setInicio(self, new_inicio):\n",
    "        self.inicio = new_inicio\n",
    "        \n",
    "    def setDevolucao(self, new_devolucao):\n",
    "        self.devolucao = new_devolucao\n",
    "        \n",
    "    def setFinalizado(self, new_finalizado):\n",
    "        self.finalizado = new_finalizado"
   ]
  },
  {
   "cell_type": "markdown",
   "id": "66039622",
   "metadata": {},
   "source": [
    "Agora, nossa classe está na metade da construção. Para funcionar corretamente, podemos definir melhor alguns métodos, como definir a criação de uma função que automatize o empréstimo de um livro e um método que defina uma regra de prazo para renovação de um livro. Como precisaremos trabalhar com datas, importaremos a biblioteca *datetime*"
   ]
  },
  {
   "cell_type": "code",
   "execution_count": 42,
   "id": "06a3c66e",
   "metadata": {},
   "outputs": [],
   "source": [
    "import datetime"
   ]
  },
  {
   "cell_type": "code",
   "execution_count": 1,
   "id": "fc5433db",
   "metadata": {},
   "outputs": [],
   "source": [
    "class Emprestimo:\n",
    "    def __init__(self, new_Usuario, new_Livro, new_inicio, new_devolucao, new_finalizado):\n",
    "        self.Usuario = new_Usuario\n",
    "        self.Livro = new_Livro\n",
    "        self.inicio = new_inicio\n",
    "        self.devolucao = new_devolucao\n",
    "        self.finalizado = new.finalizado\n",
    "        \n",
    "    def getUsuario(self):\n",
    "        return self.Usuario\n",
    "    \n",
    "    def getLivro(self):\n",
    "        return self.Livro\n",
    "    \n",
    "    def getInicio(self):\n",
    "        return self.inicio\n",
    "    \n",
    "    def getDevolucao(self):\n",
    "        return self.devolucao\n",
    "    \n",
    "    def getFinalizado(self):\n",
    "        return self.finalizado\n",
    "    \n",
    "    def setUsuario(self, new_Usuario):\n",
    "        self.Usuario = new_Usuario\n",
    "    \n",
    "    def setLivro(self, new_Livro):\n",
    "        self.Livro = new_Livro\n",
    "        \n",
    "    def setInicio(self, new_inicio):\n",
    "        self.inicio = new_inicio\n",
    "        \n",
    "    def setDevolucao(self, new_devolucao):\n",
    "        self.devolucao = new_devolucao\n",
    "        \n",
    "    def setFinalizado(self, new_finalizado):\n",
    "        self.finalizado = new_finalizado\n",
    "        \n",
    "    def Emprestimo(self, new_Usuario, new_Livro):\n",
    "        self.Usuario = new_Usuario\n",
    "        self.Livro = new_Livro\n",
    "        self.inicio = datetime.now()\n",
    "        self.devolucao = self.inicio + timedelta(days= 7)\n",
    "        self.finalizado = False\n",
    "        print(\"Empréstimo realizado com sucesso!\")\n",
    "           \n",
    "    def Renovação(self):\n",
    "        self.devolucao =+ timedelta(days= 7)\n",
    "        self.finalizado = False\n",
    "        print(\"Renovação realizada com sucesso!\")\n",
    "        \n",
    "    def Devolução(self):\n",
    "        self.finalizado = True\n",
    "        print(\"Devolução realizada com sucesso!\")"
   ]
  },
  {
   "cell_type": "code",
   "execution_count": null,
   "id": "2025b6a3",
   "metadata": {},
   "outputs": [],
   "source": []
  }
 ],
 "metadata": {
  "kernelspec": {
   "display_name": "Python 3 (ipykernel)",
   "language": "python",
   "name": "python3"
  },
  "language_info": {
   "codemirror_mode": {
    "name": "ipython",
    "version": 3
   },
   "file_extension": ".py",
   "mimetype": "text/x-python",
   "name": "python",
   "nbconvert_exporter": "python",
   "pygments_lexer": "ipython3",
   "version": "3.9.1"
  }
 },
 "nbformat": 4,
 "nbformat_minor": 5
}
